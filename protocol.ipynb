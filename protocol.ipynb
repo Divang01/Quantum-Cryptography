{
 "cells": [
  {
   "cell_type": "code",
   "execution_count": 1,
   "metadata": {},
   "outputs": [],
   "source": [
    "%matplotlib inline\n",
    "# Necassary Imports\n",
    "from qiskit import *\n",
    "from numpy.random import randint as int_random\n",
    "import numpy as nump\n",
    "from qiskit.compiler import transpile, assemble\n",
    "from qiskit.visualization import *\n"
   ]
  },
  {
   "cell_type": "code",
   "execution_count": 2,
   "metadata": {},
   "outputs": [
    {
     "data": {
      "image/png": "[encoded data removed]",
      "text/plain": [
       "<Figure size 127.506x144.48 with 1 Axes>"
      ]
     },
     "execution_count": 2,
     "metadata": {},
     "output_type": "execute_result"
    }
   ],
   "source": [
    "quantumCir = QuantumCircuit(1, 1)\n",
    "quantumCir.draw(output='mpl')\n",
    "# Defining a quantum circuit."
   ]
  },
  {
   "cell_type": "code",
   "execution_count": 3,
   "metadata": {},
   "outputs": [
    {
     "data": {
      "image/png": "[encoded data removed]",
      "text/plain": [
       "<Figure size 247.906x144.48 with 1 Axes>"
      ]
     },
     "execution_count": 3,
     "metadata": {},
     "output_type": "execute_result"
    }
   ],
   "source": [
    "quantumCir.x(0)\n",
    "quantumCir.measure(0, 0)\n",
    "quantumCir.draw(output='mpl')\n",
    "# using x-gate to flip the bit or rotate by pi radian.\n",
    "# Measuring the quantum bit."
   ]
  },
  {
   "cell_type": "code",
   "execution_count": 4,
   "metadata": {},
   "outputs": [
    {
     "data": {
      "image/png": "[encoded data removed]",
      "text/plain": [
       "<Figure size 428.506x144.48 with 1 Axes>"
      ]
     },
     "execution_count": 4,
     "metadata": {},
     "output_type": "execute_result"
    }
   ],
   "source": [
    "quantumCir.barrier()\n",
    "quantumCir.h(0)\n",
    "quantumCir.measure(0,0)\n",
    "quantumCir.draw(output='mpl')\n",
    "# using Hadamard gate to change the basis or rotate by pi radian and measuring"
   ]
  },
  {
   "cell_type": "code",
   "execution_count": 5,
   "metadata": {},
   "outputs": [
    {
     "data": {
      "text/html": [
       "<pre style=\"word-wrap: normal;white-space: pre;background: #fff0;line-height: 1.1;font-family: &quot;Courier New&quot;,Courier,monospace\">     ┌───┐┌─┐ ░ ┌───┐┌─┐\n",
       "q_0: ┤ X ├┤M├─░─┤ H ├┤M├\n",
       "     └───┘└╥┘ ░ └───┘└╥┘\n",
       "c: 1/══════╩══════════╩═\n",
       "           0          0 </pre>"
      ],
      "text/plain": [
       "     ┌───┐┌─┐ ░ ┌───┐┌─┐\n",
       "q_0: ┤ X ├┤M├─░─┤ H ├┤M├\n",
       "     └───┘└╥┘ ░ └───┘└╥┘\n",
       "c: 1/══════╩══════════╩═\n",
       "           0          0 "
      ]
     },
     "metadata": {},
     "output_type": "display_data"
    },
    {
     "data": {
      "image/png": "[encoded data removed]",
      "text/plain": [
       "<Figure size 504x360 with 1 Axes>"
      ]
     },
     "execution_count": 5,
     "metadata": {},
     "output_type": "execute_result"
    }
   ],
   "source": [
    "# Graphical view of the circuit\n",
    "display(quantumCir.draw())\n",
    "backend = Aer.get_backend('qasm_simulator')\n",
    "work = execute(quantumCir, backend)\n",
    "qiskit.visualization.plot_histogram(work.result().get_counts())"
   ]
  },
  {
   "cell_type": "code",
   "execution_count": 6,
   "metadata": {},
   "outputs": [
    {
     "name": "stdout",
     "output_type": "stream",
     "text": [
      "Tanmay q_bits = [1 0 0 1 0 0 0 1 1 0 1 0 0 0 0 0 1 0 1 0 1 1 1 1 1 0 1 1 1 1 0 1 1 0 0 1 0\n",
      " 0 0 0 1 1 0 0 1 0 1 1 1 1 0 0 0 1 0 1 1 1 0 1 0 0 1 0 1 1 0 0 1 0 1 0 1 0\n",
      " 1 0 1 0 0 0 1 0 1 0 1 0 0 0 0 0 1 0 0 1 0 0 0 1 0 0]\n",
      "original_msg has been encoded\n"
     ]
    }
   ],
   "source": [
    "def encrypt_M(q_bits, bases_set):\n",
    "#         Creating an encoding function\n",
    "#         @q_bits - original_msg in q_bits\n",
    "#         @bases_set - Quantum gates\n",
    "#         returns original_msg\n",
    "    original_msg = []\n",
    "    for i in range(100):\n",
    "        quantumCir = QuantumCircuit(1,1)\n",
    "        if bases_set[i] == 0: # Prepare qubit in Z-basis\n",
    "            if q_bits[i] == 0:\n",
    "                pass \n",
    "            else:\n",
    "                quantumCir.x(0)\n",
    "        else: # Prepare qubit in X-basis\n",
    "            if q_bits[i] == 0:\n",
    "                quantumCir.h(0)\n",
    "            else:\n",
    "                quantumCir.x(0)\n",
    "                quantumCir.h(0)\n",
    "        quantumCir.barrier()\n",
    "        original_msg.append(quantumCir)\n",
    "    return original_msg\n",
    "\n",
    "nump.random.seed(seed=0) # To generate randomness\n",
    "n = 100 # Number of q_bits in original_msg\n",
    "Tanmay_base = int_random(2, size=n) # Tanmay chooses random basis for each bit\n",
    "Tanmay_bit = int_random(2, size=n) # original_msg q_bits (original q_bits)\n",
    "print(\"Tanmay q_bits = \" + str(Tanmay_bit))\n",
    "original_msg = encrypt_M(Tanmay_bit, Tanmay_base) # Encodes the q_bits according to the basis\n",
    "print(\"original_msg has been encoded\")"
   ]
  },
  {
   "cell_type": "code",
   "execution_count": 7,
   "metadata": {},
   "outputs": [
    {
     "name": "stdout",
     "output_type": "stream",
     "text": [
      "Divang's bit measurement = [1, 0, 0, 1, 1, 0, 0, 0, 1, 0, 1, 0, 0, 1, 0, 0, 1, 1, 1, 0, 1, 1, 0, 1, 0, 0, 0, 0, 1, 1, 0, 0, 0, 0, 1, 1, 0, 1, 0, 0, 1, 1, 0, 0, 1, 0, 1, 0, 1, 0, 0, 0, 0, 1, 0, 1, 1, 0, 0, 1, 0, 1, 0, 0, 0, 1, 0, 0, 0, 0, 1, 0, 0, 0, 1, 0, 1, 0, 0, 0, 1, 0, 1, 1, 0, 0, 0, 0, 0, 0, 1, 0, 0, 0, 0, 0, 0, 1, 0, 0]\n"
     ]
    }
   ],
   "source": [
    "def measure_original_msg(original_msg, bases_set):\n",
    "#         Measuring the computation from the \n",
    "#         @original_msg - original_msg q_bits\n",
    "#         @bases_set - quantum gates\n",
    "#         returns qbit_measurement\n",
    "    backend = Aer.get_backend('qasm_simulator') # Backend simulator\n",
    "    qbit_measurement = []\n",
    "    for q in range(n):\n",
    "        if bases_set[q] == 0: # measuring in Z-basis\n",
    "            original_msg[q].measure(0,0)\n",
    "        if bases_set[q] == 1: # measuring in X-basis\n",
    "            original_msg[q].h(0)\n",
    "            original_msg[q].measure(0,0)\n",
    "        result = execute(original_msg[q], backend, shots=1, memory=True).result()\n",
    "        # execute the quantum circuit on a IBM quantum computer\n",
    "        measured_bit = int(result.get_memory()[0])\n",
    "        qbit_measurement.append(measured_bit)\n",
    "    return qbit_measurement\n",
    "\n",
    "#If there is no eavesdropping and Divang measures the q_bits\n",
    "Divang_base = int_random(2, size=n) # Divang chooses random basis for each bit\n",
    "Divang_result = measure_original_msg(original_msg, Divang_base) # Divang measures the q_bits according to his basis\n",
    "print(\"Divang's bit measurement = \" + str(Divang_result))"
   ]
  },
  {
   "cell_type": "code",
   "execution_count": 8,
   "metadata": {},
   "outputs": [
    {
     "name": "stdout",
     "output_type": "stream",
     "text": [
      "Tanmay's key = [0, 1, 0, 0, 1, 0, 0, 0, 1, 1, 0, 1, 0, 1, 0, 0, 1, 0, 0, 1, 1, 0, 0, 1, 0, 1, 1, 0, 0, 0, 1, 0, 0, 0, 0, 1, 0, 0, 1, 1, 0, 0, 0, 0, 1, 0, 0, 1, 0, 0, 0, 0, 0]\n",
      "Divang's key = [0, 1, 0, 0, 1, 0, 0, 0, 1, 1, 0, 1, 0, 1, 0, 0, 1, 0, 0, 1, 1, 0, 0, 1, 0, 1, 1, 0, 0, 0, 1, 0, 0, 0, 0, 1, 0, 0, 1, 1, 0, 0, 0, 0, 1, 0, 0, 1, 0, 0, 0, 0, 0]\n"
     ]
    }
   ],
   "source": [
    "def discard_q_bits(Tanmay_bases_set, Divang_bases_set, q_bits):\n",
    "#         Discards the uncommon bases_set\n",
    "#         @Tanmay_bases_set - Tanmay's base\n",
    "#         @Divang_bases_set - Divang's base\n",
    "#         @q_bits - original_msg\n",
    "#         returns good_q_bits\n",
    "    good_q_bits = []\n",
    "    for q in range(n):\n",
    "        if Tanmay_bases_set[q] == Divang_bases_set[q]:\n",
    "            # If  the basis of Tanmay & Divang matches, add\n",
    "            # this to 'good' q_bits\n",
    "            good_q_bits.append(q_bits[q])\n",
    "    return good_q_bits\n",
    "\n",
    "#Now we discard the q_bits which have different basis with respect to Tanmay & Divang\n",
    "# and store them as their keys respectively\n",
    "Tanmay_key = discard_q_bits(Tanmay_base, Divang_base, Tanmay_bit)\n",
    "Divang_key = discard_q_bits(Tanmay_base, Divang_base, Divang_result)\n",
    "print(\"Tanmay's key = \" + str(Tanmay_key))\n",
    "print(\"Divang's key = \" + str(Divang_key))"
   ]
  },
  {
   "cell_type": "code",
   "execution_count": 9,
   "metadata": {},
   "outputs": [
    {
     "name": "stdout",
     "output_type": "stream",
     "text": [
      "Randomly chosen q_bits = [28  2 27 83 89 23 53 51 46 20]\n",
      "Tanmay's sample = [0, 0, 0, 0, 1, 0, 0, 0, 1, 1]\n",
      "Divang's sample = [0, 0, 0, 0, 1, 0, 0, 0, 1, 1]\n",
      "sample matched, no eavesdropping !\n"
     ]
    }
   ],
   "source": [
    "def q_bits_selection(q_bits, selection):\n",
    "#         Measures the random sam q_bits\n",
    "#         @q_bits - original_msg\n",
    "#         @selection - good_q_bits\n",
    "#         returns sam\n",
    "    sam = []\n",
    "    for idx in selection:\n",
    "        # taking modulus\n",
    "        idx = nump.mod(idx, len(q_bits))\n",
    "        sam.append(q_bits.pop(idx))\n",
    "    return sam\n",
    "\n",
    "#Now we take random indices of a fixed sam size to compare their respective keys\n",
    "sam = 10\n",
    "selected_bits = int_random(n, size=sam) #random indices\n",
    "print(\"Randomly chosen q_bits = \" + str(selected_bits))\n",
    "Tanmay_sam = q_bits_selection(Tanmay_key, selected_bits)\n",
    "Divang_sam = q_bits_selection(Divang_key, selected_bits)\n",
    "print(\"Tanmay's sample = \" + str(Tanmay_sam))\n",
    "print(\"Divang's sample = \" + str(Divang_sam))\n",
    "if Divang_sam == Tanmay_sam:\n",
    "    print(\"sample matched, no eavesdropping !\")\n",
    "else:\n",
    "    print(\"sample does not Matched\")"
   ]
  },
  {
   "cell_type": "code",
   "execution_count": 10,
   "metadata": {},
   "outputs": [
    {
     "name": "stdout",
     "output_type": "stream",
     "text": [
      "Randomly chosen q_bits = [70 71 18 92 43 83 49 41 93 46 21 73 89 96 91]\n",
      "Tanmay's sample = [0, 0, 0, 1, 0, 1, 0, 1, 1, 1, 0, 1, 0, 0, 1]\n",
      "Divang's sample = [1, 0, 0, 0, 1, 1, 0, 1, 1, 0, 0, 1, 0, 1, 1]\n",
      "Sample does not matched, there is an eavesdropping !\n"
     ]
    }
   ],
   "source": [
    "#If an Eavesdropper measures the q_bits before Divang measures them\n",
    "# Assuming that no external noise is there (error)\n",
    "nump.random.seed(seed=0)\n",
    "\n",
    "## Stage I\n",
    "Tanmay_bit = int_random(2, size=n)\n",
    "\n",
    "## Stage II\n",
    "Tanmay_base = int_random(2, size=n)\n",
    "original_msg = encrypt_M(Tanmay_bit, Tanmay_base)\n",
    "\n",
    "## Nikhil trying to intercept !!\n",
    "Nikhil_base = int_random(2, size=n)\n",
    "intercepted_original_msg = measure_original_msg(original_msg, Nikhil_base)\n",
    "\n",
    "## Stage III\n",
    "Divang_base = int_random(2, size=n)\n",
    "Divang_result = measure_original_msg(original_msg, Divang_base)\n",
    "\n",
    "## Stage IV\n",
    "Tanmay_key = discard_q_bits(Tanmay_base, Divang_base, Tanmay_bit)\n",
    "Divang_key = discard_q_bits(Tanmay_base, Divang_base, Divang_result)\n",
    "\n",
    "## Step V\n",
    "sam = 15\n",
    "selected_bits = int_random(n, size=sam)\n",
    "print(\"Randomly chosen q_bits = \" + str(selected_bits))\n",
    "Tanmay_sam = q_bits_selection(Tanmay_key, selected_bits)\n",
    "Divang_sam = q_bits_selection(Divang_key, selected_bits)\n",
    "print(\"Tanmay's sample = \" + str(Tanmay_sam))\n",
    "print(\"Divang's sample = \" + str(Divang_sam))\n",
    "if Divang_sam == Tanmay_sam:\n",
    "    print(\"Sample matched, no eavesdropping !\")\n",
    "else:\n",
    "    print(\"Sample does not matched, there is an eavesdropping !\")"
   ]
  },
  {
   "cell_type": "markdown",
   "metadata": {},
   "source": [
    "# Risk Ananlysis\n",
    "Lower the no of bits lower is the chance of getting caught while intercepting and Vice versa."
   ]
  },
  {
   "cell_type": "code",
   "execution_count": 14,
   "metadata": {},
   "outputs": [
    {
     "name": "stdout",
     "output_type": "stream",
     "text": [
      "{1: 0, 2: 2, 3: 2, 4: 2, 5: 4, 6: 3, 7: 3, 8: 5, 9: 4, 10: 7, 11: 6, 12: 9, 13: 8, 14: 5, 15: 12, 16: 9, 17: 8, 18: 11, 19: 12, 20: 9, 21: 8, 22: 9, 23: 11, 24: 13, 25: 13, 26: 15, 27: 15, 28: 12, 29: 12, 30: 16, 31: 15, 32: 16, 33: 18, 34: 16, 35: 17, 36: 17, 37: 18, 38: 19, 39: 20, 40: 18, 41: 21, 42: 21, 43: 22, 44: 21, 45: 23, 46: 23, 47: 24}\n"
     ]
    },
    {
     "data": {
      "image/png": "[encoded data removed]",
      "text/plain": [
       "<Figure size 432x288 with 1 Axes>"
      ]
     },
     "metadata": {
      "needs_background": "light"
     },
     "output_type": "display_data"
    }
   ],
   "source": [
    "import matplotlib.pyplot as plot_graph\n",
    "nump.random.seed(seed=0)\n",
    "\n",
    "Tanmay_q_bits = int_random(2, size=n)\n",
    "Tanmay_bases_set = int_random(2, size=n)\n",
    "\n",
    "original_msg = encrypt_M(Tanmay_q_bits, Tanmay_bases_set)\n",
    "\n",
    "Nikhil_bases_set = int_random(2, size=n)\n",
    "intercepted_original_msg = measure_original_msg(original_msg, Nikhil_bases_set)\n",
    "\n",
    "Divang_bases_set = int_random(2, size=n)\n",
    "Divang_results = measure_original_msg(original_msg, Divang_bases_set)\n",
    "\n",
    "Divang_key = discard_q_bits(Tanmay_bases_set, Divang_bases_set, Divang_results)\n",
    "Tanmay_key = discard_q_bits(Tanmay_bases_set, Divang_bases_set, Tanmay_q_bits)\n",
    "\n",
    "sam = len(Tanmay_key)\n",
    "l1 = []\n",
    "l2 = []\n",
    "s = 1\n",
    "while s <= sam:\n",
    "    a = Tanmay_key.copy()\n",
    "    b = Divang_key.copy()\n",
    "    sam_size = s\n",
    "    selected_bitSection = int_random(n, size=sam_size)\n",
    "    Divang_sam = q_bits_selection(b, selected_bitSection)\n",
    "    Tanmay_sam = q_bits_selection(a, selected_bitSection)\n",
    "    j = 0\n",
    "    c = 0\n",
    "    while j < sam_size:\n",
    "        if Divang_sam[j] != Tanmay_sam[j] :\n",
    "            c = c + 1\n",
    "        j = j + 1\n",
    "    l1.append(s)\n",
    "    l2.append(c)\n",
    "    s = s+1\n",
    "d = {l1[i] : l2[i] for i in range(len(l1))}\n",
    "print(d)\n",
    "plot_graph.bar(l1, l2, facecolor='lime', edgecolor='white')\n",
    "plot_graph.xlabel('sam size')\n",
    "plot_graph.ylabel('No. of unmatched q_bits')\n",
    "plot_graph.show()"
   ]
  },
  {
   "cell_type": "code",
   "execution_count": null,
   "metadata": {},
   "outputs": [],
   "source": []
  }
 ],
 "metadata": {
  "kernelspec": {
   "display_name": "Python 3",
   "language": "python",
   "name": "python3"
  },
  "language_info": {
   "codemirror_mode": {
    "name": "ipython",
    "version": 3
   },
   "file_extension": ".py",
   "mimetype": "text/x-python",
   "name": "python",
   "nbconvert_exporter": "python",
   "pygments_lexer": "ipython3",
   "version": "3.8.5"
  }
 },
 "nbformat": 4,
 "nbformat_minor": 4
}
